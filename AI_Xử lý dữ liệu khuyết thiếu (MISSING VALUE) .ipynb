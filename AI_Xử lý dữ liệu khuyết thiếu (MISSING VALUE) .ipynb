{
 "cells": [
  {
   "cell_type": "code",
   "execution_count": 1,
   "id": "71de5656",
   "metadata": {},
   "outputs": [],
   "source": [
    "import pandas as pd"
   ]
  },
  {
   "cell_type": "code",
   "execution_count": 9,
   "id": "b7464839",
   "metadata": {},
   "outputs": [],
   "source": [
    "train_df = pd.read_csv(\"house_price_đống đa.csv\")"
   ]
  },
  {
   "cell_type": "code",
   "execution_count": 11,
   "id": "c7bd1e29",
   "metadata": {},
   "outputs": [
    {
     "data": {
      "text/plain": [
       "(1000, 18)"
      ]
     },
     "execution_count": 11,
     "metadata": {},
     "output_type": "execute_result"
    }
   ],
   "source": [
    "train_df.shape"
   ]
  },
  {
   "cell_type": "code",
   "execution_count": 10,
   "id": "ec7bec79",
   "metadata": {},
   "outputs": [
    {
     "data": {
      "text/plain": [
       "4129"
      ]
     },
     "execution_count": 10,
     "metadata": {},
     "output_type": "execute_result"
    }
   ],
   "source": [
    "#Find the total number of missing values from the entire dataset\n",
    "train_df.isnull().sum().sum() "
   ]
  },
  {
   "cell_type": "code",
   "execution_count": 12,
   "id": "b287c9e7",
   "metadata": {},
   "outputs": [
    {
     "data": {
      "text/plain": [
       "title                0\n",
       "address              0\n",
       "area                 0\n",
       "price                0\n",
       "postDate             0\n",
       "land_certificate     0\n",
       "house_direction      0\n",
       "balcony_direction    0\n",
       "toilet               0\n",
       "bedroom              0\n",
       "floor                0\n",
       "type_of_land         0\n",
       "street_name          0\n",
       "ward_name            0\n",
       "district_name        0\n",
       "city_name            0\n",
       "lat                  0\n",
       "long                 0\n",
       "dtype: int64"
      ]
     },
     "execution_count": 12,
     "metadata": {},
     "output_type": "execute_result"
    }
   ],
   "source": [
    "#Delete the entire row\n",
    "df = train_df.dropna(axis=0)\n",
    "df.isnull().sum()"
   ]
  },
  {
   "cell_type": "code",
   "execution_count": 13,
   "id": "f615c5f2",
   "metadata": {},
   "outputs": [
    {
     "data": {
      "text/plain": [
       "(14, 18)"
      ]
     },
     "execution_count": 13,
     "metadata": {},
     "output_type": "execute_result"
    }
   ],
   "source": [
    "df.shape"
   ]
  },
  {
   "cell_type": "code",
   "execution_count": 15,
   "id": "12afd874",
   "metadata": {},
   "outputs": [
    {
     "data": {
      "text/plain": [
       "title                  0\n",
       "address                0\n",
       "price                 56\n",
       "postDate               0\n",
       "land_certificate     307\n",
       "house_direction      956\n",
       "balcony_direction    976\n",
       "toilet               449\n",
       "bedroom              365\n",
       "floor                624\n",
       "type_of_land           0\n",
       "street_name          192\n",
       "ward_name            198\n",
       "district_name          0\n",
       "city_name              0\n",
       "lat                    0\n",
       "long                   0\n",
       "dtype: int64"
      ]
     },
     "execution_count": 15,
     "metadata": {},
     "output_type": "execute_result"
    }
   ],
   "source": [
    "df = train_df.drop(['area'],axis=1)\n",
    "df.isnull().sum()"
   ]
  },
  {
   "cell_type": "code",
   "execution_count": 17,
   "id": "c06927cd",
   "metadata": {},
   "outputs": [
    {
     "data": {
      "text/plain": [
       "(1000, 17)"
      ]
     },
     "execution_count": 17,
     "metadata": {},
     "output_type": "execute_result"
    }
   ],
   "source": [
    "df.shape"
   ]
  },
  {
   "cell_type": "code",
   "execution_count": 18,
   "id": "0013eb4a",
   "metadata": {},
   "outputs": [
    {
     "data": {
      "text/plain": [
       "0"
      ]
     },
     "execution_count": 18,
     "metadata": {},
     "output_type": "execute_result"
    }
   ],
   "source": [
    "#Replace the missing value with '0' using 'fiilna' method\n",
    "train_df['address'] = train_df['address'].fillna(\"Chưa xác định\")\n",
    "train_df['address'].isnull().sum()"
   ]
  },
  {
   "cell_type": "code",
   "execution_count": 19,
   "id": "af7c17f1",
   "metadata": {},
   "outputs": [],
   "source": [
    "#Replace the missing values for categorical columns with mode\n",
    "train_df['price'] = train_df['price'].fillna(train_df['price'].mode()[0])\n",
    "# train_df['Married'] = train_df['Married'].fillna(train_df['Married'].mode()[0])\n",
    "# train_df['Self_Employed'] = train_df[‘Self_Employed'].fillna(train_df['Self_Employed'].mode()[0])\n",
    "# train_df.isnull().sum()"
   ]
  },
  {
   "cell_type": "code",
   "execution_count": null,
   "id": "65f9133f",
   "metadata": {},
   "outputs": [],
   "source": []
  }
 ],
 "metadata": {
  "kernelspec": {
   "display_name": "Python 3 (ipykernel)",
   "language": "python",
   "name": "python3"
  },
  "language_info": {
   "codemirror_mode": {
    "name": "ipython",
    "version": 3
   },
   "file_extension": ".py",
   "mimetype": "text/x-python",
   "name": "python",
   "nbconvert_exporter": "python",
   "pygments_lexer": "ipython3",
   "version": "3.11.4"
  }
 },
 "nbformat": 4,
 "nbformat_minor": 5
}
