{
 "cells": [
  {
   "cell_type": "markdown",
   "id": "6a2105f0",
   "metadata": {},
   "source": [
    "**Khai báo thư viện**"
   ]
  },
  {
   "cell_type": "code",
   "execution_count": 1,
   "id": "2f1a50d9",
   "metadata": {},
   "outputs": [],
   "source": [
    "import numpy as np\n",
    "import pandas as pd\n",
    "import seaborn as sns"
   ]
  },
  {
   "cell_type": "markdown",
   "id": "ac63456c",
   "metadata": {},
   "source": [
    "**Tạo hàm lấy điểm ngẫu nhiên**"
   ]
  },
  {
   "cell_type": "code",
   "execution_count": 31,
   "id": "589936ad",
   "metadata": {},
   "outputs": [
    {
     "data": {
      "text/plain": [
       "array([75., 56., 67., 65., 63., 59., 58., 63., 70., 75., 67., 65., 53.,\n",
       "       48., 75., 54., 57., 57., 57., 54., 53., 66., 62., 55., 65., 45.,\n",
       "       65., 29., 69., 49., 58., 81., 91., 58., 61., 65., 50., 78., 65.,\n",
       "       63., 72., 46., 73., 61., 60., 70., 42., 67., 82., 72., 74., 69.,\n",
       "       58., 64., 70., 65., 44., 90., 60., 58., 52., 52., 63., 59., 65.,\n",
       "       56., 44., 58., 58., 45., 61., 42., 51., 67., 61., 75., 72., 71.,\n",
       "       58., 67., 60., 69., 62., 64., 52., 58., 75., 35., 43., 63., 62.,\n",
       "       67., 72., 72., 58., 64., 64., 53., 47., 45., 45., 67., 73., 78.,\n",
       "       69., 66., 69., 59., 57., 63., 66., 34., 45., 63., 65., 61., 47.,\n",
       "       68., 53., 70., 73., 70., 38., 78., 62., 83., 60., 67., 61., 57.,\n",
       "       64., 63., 48., 61., 88., 84., 62., 67., 39., 56., 72., 66., 62.,\n",
       "       67., 77., 60., 46., 59., 65., 59., 54., 79., 38., 46., 50., 72.,\n",
       "       61., 47., 65., 29., 71., 59., 65., 46., 56., 67., 62., 64., 57.,\n",
       "       76., 64., 64., 73., 62., 61., 38., 20., 55., 63., 55., 39., 51.,\n",
       "       70., 58., 43., 54., 82., 65., 67., 50., 56., 54., 72., 54., 42.,\n",
       "       76., 67., 74., 98., 53.])"
      ]
     },
     "execution_count": 31,
     "metadata": {},
     "output_type": "execute_result"
    }
   ],
   "source": [
    "def generate_scores(mean,std_dev,num_samples, seed):\n",
    "    np.random.seed(seed)\n",
    "    scores = np.random.normal(loc=mean,scale=std_dev,size=num_samples)\n",
    "    scores = np.round(scores, decimals=0)\n",
    "    return scores\n",
    "scores_data = generate_scores(60,12,200,27)\n",
    "scores_data\n",
    "#Giá trị ngẫu nhiên luôn giống nhau (Để khác nhau thay giá trị của Seed)"
   ]
  },
  {
   "cell_type": "code",
   "execution_count": 32,
   "id": "c9039e16",
   "metadata": {},
   "outputs": [
    {
     "data": {
      "text/plain": [
       "<seaborn.axisgrid.FacetGrid at 0x24586007510>"
      ]
     },
     "execution_count": 32,
     "metadata": {},
     "output_type": "execute_result"
    },
    {
     "data": {
      "image/png": "[encoded data removed]",
      "text/plain": [
       "<Figure size 500x500 with 1 Axes>"
      ]
     },
     "metadata": {},
     "output_type": "display_data"
    }
   ],
   "source": [
    "sns.set_theme()\n",
    "sns.displot(data=scores_data).set(title=\"Distribution of Scores\", xlabel=\"Scores\")"
   ]
  },
  {
   "cell_type": "code",
   "execution_count": 33,
   "id": "53e0e890",
   "metadata": {},
   "outputs": [],
   "source": [
    "df_scores = pd.DataFrame(scores_data,columns=['score'])"
   ]
  },
  {
   "cell_type": "code",
   "execution_count": 34,
   "id": "9182c25a",
   "metadata": {},
   "outputs": [
    {
     "data": {
      "text/html": [
       "<div>\n",
       "<style scoped>\n",
       "    .dataframe tbody tr th:only-of-type {\n",
       "        vertical-align: middle;\n",
       "    }\n",
       "\n",
       "    .dataframe tbody tr th {\n",
       "        vertical-align: top;\n",
       "    }\n",
       "\n",
       "    .dataframe thead th {\n",
       "        text-align: right;\n",
       "    }\n",
       "</style>\n",
       "<table border=\"1\" class=\"dataframe\">\n",
       "  <thead>\n",
       "    <tr style=\"text-align: right;\">\n",
       "      <th></th>\n",
       "      <th>score</th>\n",
       "    </tr>\n",
       "  </thead>\n",
       "  <tbody>\n",
       "    <tr>\n",
       "      <th>0</th>\n",
       "      <td>75.0</td>\n",
       "    </tr>\n",
       "    <tr>\n",
       "      <th>1</th>\n",
       "      <td>56.0</td>\n",
       "    </tr>\n",
       "    <tr>\n",
       "      <th>2</th>\n",
       "      <td>67.0</td>\n",
       "    </tr>\n",
       "    <tr>\n",
       "      <th>3</th>\n",
       "      <td>65.0</td>\n",
       "    </tr>\n",
       "    <tr>\n",
       "      <th>4</th>\n",
       "      <td>63.0</td>\n",
       "    </tr>\n",
       "    <tr>\n",
       "      <th>...</th>\n",
       "      <td>...</td>\n",
       "    </tr>\n",
       "    <tr>\n",
       "      <th>195</th>\n",
       "      <td>76.0</td>\n",
       "    </tr>\n",
       "    <tr>\n",
       "      <th>196</th>\n",
       "      <td>67.0</td>\n",
       "    </tr>\n",
       "    <tr>\n",
       "      <th>197</th>\n",
       "      <td>74.0</td>\n",
       "    </tr>\n",
       "    <tr>\n",
       "      <th>198</th>\n",
       "      <td>98.0</td>\n",
       "    </tr>\n",
       "    <tr>\n",
       "      <th>199</th>\n",
       "      <td>53.0</td>\n",
       "    </tr>\n",
       "  </tbody>\n",
       "</table>\n",
       "<p>200 rows × 1 columns</p>\n",
       "</div>"
      ],
      "text/plain": [
       "     score\n",
       "0     75.0\n",
       "1     56.0\n",
       "2     67.0\n",
       "3     65.0\n",
       "4     63.0\n",
       "..     ...\n",
       "195   76.0\n",
       "196   67.0\n",
       "197   74.0\n",
       "198   98.0\n",
       "199   53.0\n",
       "\n",
       "[200 rows x 1 columns]"
      ]
     },
     "execution_count": 34,
     "metadata": {},
     "output_type": "execute_result"
    }
   ],
   "source": [
    "df_scores"
   ]
  },
  {
   "cell_type": "code",
   "execution_count": 38,
   "id": "d0b06f3b",
   "metadata": {},
   "outputs": [
    {
     "name": "stdout",
     "output_type": "stream",
     "text": [
      "Mean: score    61.005\n",
      "dtype: float64\n",
      "Standard: score    11.854434\n",
      "dtype: float64\n"
     ]
    }
   ],
   "source": [
    "print(\"Mean:\", df_scores.mean())\n",
    "print( \"Standard:\",df_scores.std())"
   ]
  },
  {
   "cell_type": "code",
   "execution_count": 40,
   "id": "3637877b",
   "metadata": {},
   "outputs": [
    {
     "name": "stdout",
     "output_type": "stream",
     "text": [
      "Giới hạn dưới:  score    25.441697\n",
      "dtype: float64\n",
      "Giới hạn trên:  score    96.568303\n",
      "dtype: float64\n"
     ]
    }
   ],
   "source": [
    "lower_limit = df_scores.mean() - 3*df_scores.std()\n",
    "upper_limit = df_scores.mean() + 3*df_scores.std()\n",
    "print(\"Giới hạn dưới: \",lower_limit)\n",
    "print(\"Giới hạn trên: \",upper_limit)"
   ]
  },
  {
   "cell_type": "code",
   "execution_count": 50,
   "id": "30393610",
   "metadata": {},
   "outputs": [
    {
     "name": "stdout",
     "output_type": "stream",
     "text": [
      "     score\n",
      "0     75.0\n",
      "1     56.0\n",
      "2     67.0\n",
      "3     65.0\n",
      "4     63.0\n",
      "..     ...\n",
      "194   42.0\n",
      "195   76.0\n",
      "196   67.0\n",
      "197   74.0\n",
      "199   53.0\n",
      "\n",
      "[198 rows x 1 columns]\n"
     ]
    }
   ],
   "source": [
    "df_scores_filtered=df_scores[(df_scores['score']>float(lower_limit))&(df_scores['score']<float(upper_limit))]\n",
    "print(df_scores_filtered)"
   ]
  },
  {
   "cell_type": "markdown",
   "id": "7a7bffb7",
   "metadata": {},
   "source": [
    "**Mã phát hiện ngoại lệ bằng cách sử dụng điểm Z**"
   ]
  },
  {
   "cell_type": "code",
   "execution_count": 51,
   "id": "caa83b51",
   "metadata": {},
   "outputs": [
    {
     "data": {
      "text/html": [
       "<div>\n",
       "<style scoped>\n",
       "    .dataframe tbody tr th:only-of-type {\n",
       "        vertical-align: middle;\n",
       "    }\n",
       "\n",
       "    .dataframe tbody tr th {\n",
       "        vertical-align: top;\n",
       "    }\n",
       "\n",
       "    .dataframe thead th {\n",
       "        text-align: right;\n",
       "    }\n",
       "</style>\n",
       "<table border=\"1\" class=\"dataframe\">\n",
       "  <thead>\n",
       "    <tr style=\"text-align: right;\">\n",
       "      <th></th>\n",
       "      <th>score</th>\n",
       "      <th>z_score</th>\n",
       "    </tr>\n",
       "  </thead>\n",
       "  <tbody>\n",
       "    <tr>\n",
       "      <th>0</th>\n",
       "      <td>75.0</td>\n",
       "      <td>1.180571</td>\n",
       "    </tr>\n",
       "    <tr>\n",
       "      <th>1</th>\n",
       "      <td>56.0</td>\n",
       "      <td>-0.422205</td>\n",
       "    </tr>\n",
       "    <tr>\n",
       "      <th>2</th>\n",
       "      <td>67.0</td>\n",
       "      <td>0.505718</td>\n",
       "    </tr>\n",
       "    <tr>\n",
       "      <th>3</th>\n",
       "      <td>65.0</td>\n",
       "      <td>0.337005</td>\n",
       "    </tr>\n",
       "    <tr>\n",
       "      <th>4</th>\n",
       "      <td>63.0</td>\n",
       "      <td>0.168291</td>\n",
       "    </tr>\n",
       "  </tbody>\n",
       "</table>\n",
       "</div>"
      ],
      "text/plain": [
       "   score   z_score\n",
       "0   75.0  1.180571\n",
       "1   56.0 -0.422205\n",
       "2   67.0  0.505718\n",
       "3   65.0  0.337005\n",
       "4   63.0  0.168291"
      ]
     },
     "execution_count": 51,
     "metadata": {},
     "output_type": "execute_result"
    }
   ],
   "source": [
    "df_scores['z_score']=(df_scores['score'] - df_scores['score'].mean())/df_scores['score'].std()\n",
    "df_scores.head()"
   ]
  },
  {
   "cell_type": "markdown",
   "id": "aaae10af",
   "metadata": {},
   "source": [
    "Lọc, giữ lại các điểm trong phạm vi [-3,3]"
   ]
  },
  {
   "cell_type": "code",
   "execution_count": 52,
   "id": "264c0846",
   "metadata": {},
   "outputs": [
    {
     "name": "stdout",
     "output_type": "stream",
     "text": [
      "     score   z_score\n",
      "0     75.0  1.180571\n",
      "1     56.0 -0.422205\n",
      "2     67.0  0.505718\n",
      "3     65.0  0.337005\n",
      "4     63.0  0.168291\n",
      "..     ...       ...\n",
      "194   42.0 -1.603198\n",
      "195   76.0  1.264928\n",
      "196   67.0  0.505718\n",
      "197   74.0  1.096214\n",
      "199   53.0 -0.675275\n",
      "\n",
      "[198 rows x 2 columns]\n"
     ]
    }
   ],
   "source": [
    "df_scores_filtered= df_scores[(df_scores['z_score']>-3) & (df_scores['z_score']<3)]\n",
    "\n",
    "print(df_scores_filtered)"
   ]
  },
  {
   "cell_type": "markdown",
   "id": "d0ce8e91",
   "metadata": {},
   "source": [
    "**Cách phát hiện các ngoại lệ bằng phạm vi liên tứ phân vị (IQR)**"
   ]
  },
  {
   "cell_type": "markdown",
   "id": "69b62808",
   "metadata": {},
   "source": [
    "Vẽ biểu đồ hình Boxplot"
   ]
  },
  {
   "cell_type": "code",
   "execution_count": 53,
   "id": "41e390e0",
   "metadata": {},
   "outputs": [
    {
     "data": {
      "text/plain": [
       "[Text(0.5, 1.0, 'Box Plot of Scores')]"
      ]
     },
     "execution_count": 53,
     "metadata": {},
     "output_type": "execute_result"
    },
    {
     "data": {
      "image/png": "[encoded data removed]",
      "text/plain": [
       "<Figure size 640x480 with 1 Axes>"
      ]
     },
     "metadata": {},
     "output_type": "display_data"
    }
   ],
   "source": [
    "sns.boxplot(data=scores_data).set(title=\"Box Plot of Scores\")"
   ]
  },
  {
   "cell_type": "code",
   "execution_count": 54,
   "id": "6e12031a",
   "metadata": {},
   "outputs": [
    {
     "data": {
      "text/html": [
       "<div>\n",
       "<style scoped>\n",
       "    .dataframe tbody tr th:only-of-type {\n",
       "        vertical-align: middle;\n",
       "    }\n",
       "\n",
       "    .dataframe tbody tr th {\n",
       "        vertical-align: top;\n",
       "    }\n",
       "\n",
       "    .dataframe thead th {\n",
       "        text-align: right;\n",
       "    }\n",
       "</style>\n",
       "<table border=\"1\" class=\"dataframe\">\n",
       "  <thead>\n",
       "    <tr style=\"text-align: right;\">\n",
       "      <th></th>\n",
       "      <th>score</th>\n",
       "      <th>z_score</th>\n",
       "    </tr>\n",
       "  </thead>\n",
       "  <tbody>\n",
       "    <tr>\n",
       "      <th>count</th>\n",
       "      <td>200.000000</td>\n",
       "      <td>2.000000e+02</td>\n",
       "    </tr>\n",
       "    <tr>\n",
       "      <th>mean</th>\n",
       "      <td>61.005000</td>\n",
       "      <td>-2.131628e-16</td>\n",
       "    </tr>\n",
       "    <tr>\n",
       "      <th>std</th>\n",
       "      <td>11.854434</td>\n",
       "      <td>1.000000e+00</td>\n",
       "    </tr>\n",
       "    <tr>\n",
       "      <th>min</th>\n",
       "      <td>20.000000</td>\n",
       "      <td>-3.459043e+00</td>\n",
       "    </tr>\n",
       "    <tr>\n",
       "      <th>25%</th>\n",
       "      <td>54.000000</td>\n",
       "      <td>-5.909181e-01</td>\n",
       "    </tr>\n",
       "    <tr>\n",
       "      <th>50%</th>\n",
       "      <td>62.000000</td>\n",
       "      <td>8.393484e-02</td>\n",
       "    </tr>\n",
       "    <tr>\n",
       "      <th>75%</th>\n",
       "      <td>67.000000</td>\n",
       "      <td>5.057179e-01</td>\n",
       "    </tr>\n",
       "    <tr>\n",
       "      <th>max</th>\n",
       "      <td>98.000000</td>\n",
       "      <td>3.120773e+00</td>\n",
       "    </tr>\n",
       "  </tbody>\n",
       "</table>\n",
       "</div>"
      ],
      "text/plain": [
       "            score       z_score\n",
       "count  200.000000  2.000000e+02\n",
       "mean    61.005000 -2.131628e-16\n",
       "std     11.854434  1.000000e+00\n",
       "min     20.000000 -3.459043e+00\n",
       "25%     54.000000 -5.909181e-01\n",
       "50%     62.000000  8.393484e-02\n",
       "75%     67.000000  5.057179e-01\n",
       "max     98.000000  3.120773e+00"
      ]
     },
     "execution_count": 54,
     "metadata": {},
     "output_type": "execute_result"
    }
   ],
   "source": [
    "df_scores.describe()"
   ]
  },
  {
   "cell_type": "code",
   "execution_count": 80,
   "id": "76fa80f8",
   "metadata": {},
   "outputs": [
    {
     "name": "stdout",
     "output_type": "stream",
     "text": [
      "86.5\n",
      "34.5\n"
     ]
    }
   ],
   "source": [
    "Q3 = df_scores.quantile(0.75)[0] #Lấy giá trị score\n",
    "Q1 = df_scores.quantile(0.25)[0]\n",
    "IQR = Q3 - Q1\n",
    "lower_limit = Q1 - 1.5*IQR\n",
    "upper_limit = Q3 + 1.5*IQR\n",
    "print(upper_limit)\n",
    "print(lower_limit)"
   ]
  },
  {
   "cell_type": "code",
   "execution_count": 81,
   "id": "0c776113",
   "metadata": {},
   "outputs": [
    {
     "name": "stdout",
     "output_type": "stream",
     "text": [
      "     score   z_score\n",
      "0     75.0  1.180571\n",
      "1     56.0 -0.422205\n",
      "2     67.0  0.505718\n",
      "3     65.0  0.337005\n",
      "4     63.0  0.168291\n",
      "..     ...       ...\n",
      "194   42.0 -1.603198\n",
      "195   76.0  1.264928\n",
      "196   67.0  0.505718\n",
      "197   74.0  1.096214\n",
      "199   53.0 -0.675275\n",
      "\n",
      "[192 rows x 2 columns]\n"
     ]
    }
   ],
   "source": [
    "df_scores_filtered = df_scores[(df_scores['score']>float(lower_limit)) & (df_scores['score']<float(upper_limit))]\n",
    "print(df_scores_filtered)"
   ]
  },
  {
   "cell_type": "code",
   "execution_count": 82,
   "id": "2c1069ac",
   "metadata": {},
   "outputs": [
    {
     "name": "stdout",
     "output_type": "stream",
     "text": [
      "61.91606516404945\n"
     ]
    }
   ],
   "source": [
    "#Cách 2: \n",
    "q25,q75 = np.percentile(a = df_scores,q=[25,75])\n",
    "IQR = q75 - q25\n",
    "print(IQR)"
   ]
  },
  {
   "cell_type": "markdown",
   "id": "2d9c5cd0",
   "metadata": {},
   "source": [
    "**Cách phát hiện các ngoại lệ bằng cách sử dụng phần trăm***"
   ]
  },
  {
   "cell_type": "code",
   "execution_count": 84,
   "id": "010638c1",
   "metadata": {},
   "outputs": [
    {
     "name": "stdout",
     "output_type": "stream",
     "text": [
      "Upper_limit:  90.005\n",
      "Lower_limit:  -2.6998335925602515\n"
     ]
    }
   ],
   "source": [
    "lower_limit, upper_limit = np.percentile(a=df_scores,q=[0.5,99.5])\n",
    "print(\"Upper_limit: \", upper_limit)\n",
    "print(\"Lower_limit: \",lower_limit)"
   ]
  },
  {
   "cell_type": "code",
   "execution_count": 85,
   "id": "5fd2b956",
   "metadata": {},
   "outputs": [
    {
     "name": "stdout",
     "output_type": "stream",
     "text": [
      "     score   z_score\n",
      "0     75.0  1.180571\n",
      "1     56.0 -0.422205\n",
      "2     67.0  0.505718\n",
      "3     65.0  0.337005\n",
      "4     63.0  0.168291\n",
      "..     ...       ...\n",
      "194   42.0 -1.603198\n",
      "195   76.0  1.264928\n",
      "196   67.0  0.505718\n",
      "197   74.0  1.096214\n",
      "199   53.0 -0.675275\n",
      "\n",
      "[198 rows x 2 columns]\n"
     ]
    }
   ],
   "source": [
    "df_scores_filtered = df_scores[(df_scores['score']>lower_limit) & (df_scores['score']<upper_limit)]\n",
    "print(df_scores_filtered)"
   ]
  },
  {
   "cell_type": "code",
   "execution_count": null,
   "id": "952d1245",
   "metadata": {},
   "outputs": [],
   "source": []
  }
 ],
 "metadata": {
  "kernelspec": {
   "display_name": "Python 3 (ipykernel)",
   "language": "python",
   "name": "python3"
  },
  "language_info": {
   "codemirror_mode": {
    "name": "ipython",
    "version": 3
   },
   "file_extension": ".py",
   "mimetype": "text/x-python",
   "name": "python",
   "nbconvert_exporter": "python",
   "pygments_lexer": "ipython3",
   "version": "3.11.4"
  }
 },
 "nbformat": 4,
 "nbformat_minor": 5
}
